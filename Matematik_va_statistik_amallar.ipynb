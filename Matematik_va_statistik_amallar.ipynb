{
  "nbformat": 4,
  "nbformat_minor": 0,
  "metadata": {
    "colab": {
      "provenance": [],
      "authorship_tag": "ABX9TyPXCRt8HbOBOETdmU3zTtby",
      "include_colab_link": true
    },
    "kernelspec": {
      "name": "python3",
      "display_name": "Python 3"
    },
    "language_info": {
      "name": "python"
    }
  },
  "cells": [
    {
      "cell_type": "markdown",
      "metadata": {
        "id": "view-in-github",
        "colab_type": "text"
      },
      "source": [
        "<a href=\"https://colab.research.google.com/github/AbdullahTheAnalyst/Data-Science-and-AI-mohir_dev-/blob/main/Matematik_va_statistik_amallar.ipynb\" target=\"_parent\"><img src=\"https://colab.research.google.com/assets/colab-badge.svg\" alt=\"Open In Colab\"/></a>"
      ]
    },
    {
      "cell_type": "code",
      "execution_count": 1,
      "metadata": {
        "id": "RfdKKzb6oGjg"
      },
      "outputs": [],
      "source": [
        "import numpy as np"
      ]
    },
    {
      "cell_type": "code",
      "source": [
        "arr = np.random.randn(5, 5)\n",
        "arr"
      ],
      "metadata": {
        "colab": {
          "base_uri": "https://localhost:8080/"
        },
        "id": "3NTv46cSoomP",
        "outputId": "9b39c80e-5b6c-400e-e6f0-781071f0ce17"
      },
      "execution_count": 3,
      "outputs": [
        {
          "output_type": "execute_result",
          "data": {
            "text/plain": [
              "array([[-0.48274814, -0.16458034, -0.35118096, -0.23518093, -0.28556424],\n",
              "       [-0.53780919, -0.7577302 ,  0.56304952,  1.07203261, -0.24005578],\n",
              "       [ 2.97461715,  0.52348617, -0.22350607, -0.62213846,  0.81965424],\n",
              "       [-0.34201292, -0.36264743,  0.66697955,  0.33645294,  0.75300631],\n",
              "       [-0.67643076,  0.40410617,  1.15007298,  0.2753492 ,  1.3460658 ]])"
            ]
          },
          "metadata": {},
          "execution_count": 3
        }
      ]
    },
    {
      "cell_type": "code",
      "source": [
        "np.sum(arr)  # umumiy massiv yig'indisi"
      ],
      "metadata": {
        "colab": {
          "base_uri": "https://localhost:8080/"
        },
        "id": "BPlHMM9dpCSI",
        "outputId": "7e15ba8a-ac9b-480d-dd89-a9af18779dcc"
      },
      "execution_count": 4,
      "outputs": [
        {
          "output_type": "execute_result",
          "data": {
            "text/plain": [
              "5.603287229030629"
            ]
          },
          "metadata": {},
          "execution_count": 4
        }
      ]
    },
    {
      "cell_type": "code",
      "source": [
        "np.sum(arr, axis = 1)  # axis=1 bu Column yig'indisi mos ravishda"
      ],
      "metadata": {
        "colab": {
          "base_uri": "https://localhost:8080/"
        },
        "id": "RG8tJrzqpGGG",
        "outputId": "6d87de27-5294-4fa4-e4fe-65e0b7df8c9a"
      },
      "execution_count": 5,
      "outputs": [
        {
          "output_type": "execute_result",
          "data": {
            "text/plain": [
              "array([-1.51925461,  0.09948696,  3.47211303,  1.05177845,  2.49916339])"
            ]
          },
          "metadata": {},
          "execution_count": 5
        }
      ]
    },
    {
      "cell_type": "code",
      "source": [
        "np.sum(arr, axis = 0) # axis=0 bu Row yig'indisi mos ravishda"
      ],
      "metadata": {
        "colab": {
          "base_uri": "https://localhost:8080/"
        },
        "id": "Sk3KSu0ApK00",
        "outputId": "ff2a6bbc-b847-4e77-a2c6-40afb7c72f5b"
      },
      "execution_count": 7,
      "outputs": [
        {
          "output_type": "execute_result",
          "data": {
            "text/plain": [
              "array([ 0.93561614, -0.35736563,  1.80541502,  0.82651536,  2.39310634])"
            ]
          },
          "metadata": {},
          "execution_count": 7
        }
      ]
    },
    {
      "cell_type": "code",
      "source": [
        "arr1 = np.arange (15)\n",
        "arr1"
      ],
      "metadata": {
        "colab": {
          "base_uri": "https://localhost:8080/"
        },
        "id": "mB0doJYSpQaZ",
        "outputId": "97fe1b63-3671-48c8-bcb5-4253493ee981"
      },
      "execution_count": 9,
      "outputs": [
        {
          "output_type": "execute_result",
          "data": {
            "text/plain": [
              "array([ 0,  1,  2,  3,  4,  5,  6,  7,  8,  9, 10, 11, 12, 13, 14])"
            ]
          },
          "metadata": {},
          "execution_count": 9
        }
      ]
    },
    {
      "cell_type": "code",
      "source": [
        "np.mean (arr1)  # 0 ~ 14 gacha bo'lgan sonlar o'rta arifmetigi"
      ],
      "metadata": {
        "colab": {
          "base_uri": "https://localhost:8080/"
        },
        "id": "NUq0uzR-ps-G",
        "outputId": "0613dc8c-393a-4235-a3b2-45a2c962e79f"
      },
      "execution_count": 10,
      "outputs": [
        {
          "output_type": "execute_result",
          "data": {
            "text/plain": [
              "7.0"
            ]
          },
          "metadata": {},
          "execution_count": 10
        }
      ]
    },
    {
      "cell_type": "code",
      "source": [
        "arr"
      ],
      "metadata": {
        "colab": {
          "base_uri": "https://localhost:8080/"
        },
        "id": "lfWqZsz4pxGG",
        "outputId": "8a932c74-0d88-4dbf-cc33-ae411bcbabca"
      },
      "execution_count": 11,
      "outputs": [
        {
          "output_type": "execute_result",
          "data": {
            "text/plain": [
              "array([[-0.48274814, -0.16458034, -0.35118096, -0.23518093, -0.28556424],\n",
              "       [-0.53780919, -0.7577302 ,  0.56304952,  1.07203261, -0.24005578],\n",
              "       [ 2.97461715,  0.52348617, -0.22350607, -0.62213846,  0.81965424],\n",
              "       [-0.34201292, -0.36264743,  0.66697955,  0.33645294,  0.75300631],\n",
              "       [-0.67643076,  0.40410617,  1.15007298,  0.2753492 ,  1.3460658 ]])"
            ]
          },
          "metadata": {},
          "execution_count": 11
        }
      ]
    },
    {
      "cell_type": "code",
      "source": [
        "np.mean (arr, axis = 1) # massivning Column o'rta arifmetigi"
      ],
      "metadata": {
        "colab": {
          "base_uri": "https://localhost:8080/"
        },
        "id": "V41TBAejpz7u",
        "outputId": "500081c0-ed3b-4d60-fbb1-550173eabae1"
      },
      "execution_count": 12,
      "outputs": [
        {
          "output_type": "execute_result",
          "data": {
            "text/plain": [
              "array([-0.30385092,  0.01989739,  0.69442261,  0.21035569,  0.49983268])"
            ]
          },
          "metadata": {},
          "execution_count": 12
        }
      ]
    },
    {
      "cell_type": "code",
      "source": [
        "np.mean(arr, axis = 0)  # massivning Row o'rta arifmetigi"
      ],
      "metadata": {
        "colab": {
          "base_uri": "https://localhost:8080/"
        },
        "id": "prvsy9fzp3LS",
        "outputId": "41414c1a-213d-4928-c51f-b908272fe4e5"
      },
      "execution_count": 13,
      "outputs": [
        {
          "output_type": "execute_result",
          "data": {
            "text/plain": [
              "array([ 0.18712323, -0.07147313,  0.361083  ,  0.16530307,  0.47862127])"
            ]
          },
          "metadata": {},
          "execution_count": 13
        }
      ]
    },
    {
      "cell_type": "code",
      "source": [
        "arr2 = np.arange(10)\n",
        "arr2"
      ],
      "metadata": {
        "colab": {
          "base_uri": "https://localhost:8080/"
        },
        "id": "j9_xZp7Ip8Py",
        "outputId": "d5ce358f-34ef-4f82-f18b-919882476c54"
      },
      "execution_count": 14,
      "outputs": [
        {
          "output_type": "execute_result",
          "data": {
            "text/plain": [
              "array([0, 1, 2, 3, 4, 5, 6, 7, 8, 9])"
            ]
          },
          "metadata": {},
          "execution_count": 14
        }
      ]
    },
    {
      "cell_type": "code",
      "source": [
        "np.cumsum(arr2)  # 0 ~ 9 gacha bo'lgan sonlarning ketma-ketlikdagi sonlar yig'indisi"
      ],
      "metadata": {
        "colab": {
          "base_uri": "https://localhost:8080/"
        },
        "id": "BBR8ArnTqYKH",
        "outputId": "4ac7e239-a48d-4739-a83f-3d22cdbfff21"
      },
      "execution_count": 15,
      "outputs": [
        {
          "output_type": "execute_result",
          "data": {
            "text/plain": [
              "array([ 0,  1,  3,  6, 10, 15, 21, 28, 36, 45])"
            ]
          },
          "metadata": {},
          "execution_count": 15
        }
      ]
    },
    {
      "cell_type": "code",
      "source": [
        "np.cumsum(arr, axis = 1)"
      ],
      "metadata": {
        "colab": {
          "base_uri": "https://localhost:8080/"
        },
        "id": "RSiVg8aNqbOz",
        "outputId": "db8b9c97-b678-48df-ff07-7cb3a9581530"
      },
      "execution_count": 16,
      "outputs": [
        {
          "output_type": "execute_result",
          "data": {
            "text/plain": [
              "array([[-0.48274814, -0.64732848, -0.99850944, -1.23369037, -1.51925461],\n",
              "       [-0.53780919, -1.29553939, -0.73248987,  0.33954274,  0.09948696],\n",
              "       [ 2.97461715,  3.49810332,  3.27459725,  2.65245879,  3.47211303],\n",
              "       [-0.34201292, -0.70466035, -0.0376808 ,  0.29877214,  1.05177845],\n",
              "       [-0.67643076, -0.27232459,  0.87774839,  1.15309759,  2.49916339]])"
            ]
          },
          "metadata": {},
          "execution_count": 16
        }
      ]
    },
    {
      "cell_type": "code",
      "source": [
        "np.cumsum(arr, axis = 0)"
      ],
      "metadata": {
        "colab": {
          "base_uri": "https://localhost:8080/"
        },
        "id": "dNJp1GyHqtDG",
        "outputId": "e31ee8a6-e978-439d-a5d3-7bbd12889247"
      },
      "execution_count": 17,
      "outputs": [
        {
          "output_type": "execute_result",
          "data": {
            "text/plain": [
              "array([[-0.48274814, -0.16458034, -0.35118096, -0.23518093, -0.28556424],\n",
              "       [-1.02055733, -0.92231054,  0.21186856,  0.83685168, -0.52562002],\n",
              "       [ 1.95405982, -0.39882437, -0.01163751,  0.21471323,  0.29403422],\n",
              "       [ 1.6120469 , -0.7614718 ,  0.65534205,  0.55116616,  1.04704054],\n",
              "       [ 0.93561614, -0.35736563,  1.80541502,  0.82651536,  2.39310634]])"
            ]
          },
          "metadata": {},
          "execution_count": 17
        }
      ]
    }
  ]
}