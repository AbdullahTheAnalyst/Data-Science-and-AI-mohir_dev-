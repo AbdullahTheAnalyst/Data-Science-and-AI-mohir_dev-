{
  "nbformat": 4,
  "nbformat_minor": 0,
  "metadata": {
    "colab": {
      "provenance": [],
      "authorship_tag": "ABX9TyNMY9wG3ovaoUJl6yUwiUaH",
      "include_colab_link": true
    },
    "kernelspec": {
      "name": "python3",
      "display_name": "Python 3"
    },
    "language_info": {
      "name": "python"
    }
  },
  "cells": [
    {
      "cell_type": "markdown",
      "metadata": {
        "id": "view-in-github",
        "colab_type": "text"
      },
      "source": [
        "<a href=\"https://colab.research.google.com/github/AbdullahTheAnalyst/Data-Science-and-AI-mohir_dev-/blob/main/Takrorlanmas_va_boshqa_amallar.ipynb\" target=\"_parent\"><img src=\"https://colab.research.google.com/assets/colab-badge.svg\" alt=\"Open In Colab\"/></a>"
      ]
    },
    {
      "cell_type": "code",
      "source": [
        "import numpy as np"
      ],
      "metadata": {
        "id": "lFHqcsf7zw-B"
      },
      "execution_count": 1,
      "outputs": []
    },
    {
      "cell_type": "code",
      "source": [
        "names = np.array([\n",
        "    \"Otabek\", \"Muzaffar\", \"Sunnat\", \"E'zoza\", \"Sunnat\", \"Muzaffar\"\n",
        "])\n",
        "names"
      ],
      "metadata": {
        "colab": {
          "base_uri": "https://localhost:8080/"
        },
        "id": "8JAQ_FRH0S4j",
        "outputId": "a1f0fc83-7cfd-4e1d-e8fa-2a4f967b924d"
      },
      "execution_count": 3,
      "outputs": [
        {
          "output_type": "execute_result",
          "data": {
            "text/plain": [
              "array(['Otabek', 'Muzaffar', 'Sunnat', \"E'zoza\", 'Sunnat', 'Muzaffar'],\n",
              "      dtype='<U8')"
            ]
          },
          "metadata": {},
          "execution_count": 3
        }
      ]
    },
    {
      "cell_type": "code",
      "source": [
        "np.unique(names)  # unique funksiyasi takrorlanmas elementlar hosil qiladi. Takrorlangan qiymatlarning faqat bittasini beradi va bu sort qilib beradi qiymatini"
      ],
      "metadata": {
        "colab": {
          "base_uri": "https://localhost:8080/"
        },
        "id": "TGPbjSyW0fR9",
        "outputId": "0b58ab96-fbc7-4b03-9693-21d21c836053"
      },
      "execution_count": 10,
      "outputs": [
        {
          "output_type": "execute_result",
          "data": {
            "text/plain": [
              "array([\"E'zoza\", 'Muzaffar', 'Otabek', 'Sunnat'], dtype='<U8')"
            ]
          },
          "metadata": {},
          "execution_count": 10
        }
      ]
    },
    {
      "cell_type": "code",
      "source": [
        "number = ([\n",
        "    1, 2, 3, 4, 5, 5, 6, 7, 8, 9, 10, 4,\n",
        "])\n",
        "number"
      ],
      "metadata": {
        "colab": {
          "base_uri": "https://localhost:8080/"
        },
        "id": "9GCxMPU20uKb",
        "outputId": "818f7f91-fa91-4fd9-c315-17ff63d44b47"
      },
      "execution_count": 13,
      "outputs": [
        {
          "output_type": "execute_result",
          "data": {
            "text/plain": [
              "[1, 2, 3, 4, 5, 5, 6, 7, 8, 9, 10, 4]"
            ]
          },
          "metadata": {},
          "execution_count": 13
        }
      ]
    },
    {
      "cell_type": "code",
      "source": [
        "np.unique(number)"
      ],
      "metadata": {
        "colab": {
          "base_uri": "https://localhost:8080/"
        },
        "id": "iJiB4ysz050e",
        "outputId": "cd472cfd-1e6e-4724-be41-791861f50d8f"
      },
      "execution_count": 7,
      "outputs": [
        {
          "output_type": "execute_result",
          "data": {
            "text/plain": [
              "array([ 1,  2,  3,  4,  5,  6,  7,  8,  9, 10])"
            ]
          },
          "metadata": {},
          "execution_count": 7
        }
      ]
    },
    {
      "cell_type": "code",
      "source": [
        "arr1 = np.array ([\n",
        "    1, 56, 100, 57, 15, 301\n",
        "])\n",
        "arr2 = np.array ([\n",
        "    56, 100, 15\n",
        "])\n",
        "np.in1d(arr1, arr2)      # in1d funksiyasi arr1 dagi elementlar arr2 da bor/yo'qligini tekshirib beradi. Qiymati True/False qaytaradi"
      ],
      "metadata": {
        "colab": {
          "base_uri": "https://localhost:8080/"
        },
        "id": "joyrBVU11AB3",
        "outputId": "1dc51bc2-4892-434b-d425-2f4a0f955ec0"
      },
      "execution_count": 12,
      "outputs": [
        {
          "output_type": "execute_result",
          "data": {
            "text/plain": [
              "array([False,  True,  True, False,  True, False])"
            ]
          },
          "metadata": {},
          "execution_count": 12
        }
      ]
    },
    {
      "cell_type": "code",
      "source": [
        "names1 = np.array(['Jasur', 'Abdurahmon', 'Hasan',  'Muhammad', 'Sarvar', 'Temur'])\n",
        "names2 = np.array(['Sarvar', 'Abdurahmon', 'Hasan',  'Temur', 'Sarvar', 'Temur'])\n",
        "\n",
        "# setdiff1d  names1 ga tegishli ma'lumotlarning names2 da takrorlanmagan qismini chiqarib beradi\n",
        "\n",
        "np.setdiff1d(names1, names2)"
      ],
      "metadata": {
        "colab": {
          "base_uri": "https://localhost:8080/"
        },
        "id": "aklCwy5q1b0U",
        "outputId": "1bb90907-61ad-46ae-c010-37e008aa713c"
      },
      "execution_count": 11,
      "outputs": [
        {
          "output_type": "execute_result",
          "data": {
            "text/plain": [
              "array(['Jasur', 'Muhammad'], dtype='<U10')"
            ]
          },
          "metadata": {},
          "execution_count": 11
        }
      ]
    }
  ]
}