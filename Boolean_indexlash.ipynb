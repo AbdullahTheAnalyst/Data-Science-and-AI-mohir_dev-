{
  "nbformat": 4,
  "nbformat_minor": 0,
  "metadata": {
    "colab": {
      "provenance": [],
      "authorship_tag": "ABX9TyN/D72BXRhxchaFn97B4173",
      "include_colab_link": true
    },
    "kernelspec": {
      "name": "python3",
      "display_name": "Python 3"
    },
    "language_info": {
      "name": "python"
    }
  },
  "cells": [
    {
      "cell_type": "markdown",
      "metadata": {
        "id": "view-in-github",
        "colab_type": "text"
      },
      "source": [
        "<a href=\"https://colab.research.google.com/github/AbdullahTheAnalyst/Data-Science-and-AI-mohir_dev-/blob/main/Boolean_indexlash.ipynb\" target=\"_parent\"><img src=\"https://colab.research.google.com/assets/colab-badge.svg\" alt=\"Open In Colab\"/></a>"
      ]
    },
    {
      "cell_type": "code",
      "execution_count": 1,
      "metadata": {
        "id": "CIau6iRHnm7k"
      },
      "outputs": [],
      "source": [
        "import numpy as np"
      ]
    },
    {
      "cell_type": "code",
      "source": [
        "names = np.array ([\"Otabek\", \"Muzaffar\", \"E'zoza\", \"Sunnat\", \"Alisher\", \"Feruza\"])\n",
        "names"
      ],
      "metadata": {
        "colab": {
          "base_uri": "https://localhost:8080/"
        },
        "id": "RyhqMbKwnr7z",
        "outputId": "992e64c2-4265-4767-a2d1-18177e975e4f"
      },
      "execution_count": 14,
      "outputs": [
        {
          "output_type": "execute_result",
          "data": {
            "text/plain": [
              "array(['Otabek', 'Muzaffar', \"E'zoza\", 'Sunnat', 'Alisher', 'Feruza'],\n",
              "      dtype='<U8')"
            ]
          },
          "metadata": {},
          "execution_count": 14
        }
      ]
    },
    {
      "cell_type": "code",
      "source": [
        "data = np.random.randn (6, 3)\n",
        "data"
      ],
      "metadata": {
        "colab": {
          "base_uri": "https://localhost:8080/"
        },
        "id": "J-CC-XoxoMIn",
        "outputId": "c0237ea8-e19e-4a3d-c0c8-8ffa683d45bc"
      },
      "execution_count": 15,
      "outputs": [
        {
          "output_type": "execute_result",
          "data": {
            "text/plain": [
              "array([[ 1.7063056 ,  1.60160628,  0.70915027],\n",
              "       [ 0.97163676, -0.73407266, -1.32651401],\n",
              "       [ 1.29641705, -0.88992591, -0.95061986],\n",
              "       [-1.53420362, -0.97080281,  0.48052864],\n",
              "       [ 0.20226052,  0.72200158,  0.33973984],\n",
              "       [-0.34634261,  0.03228203,  0.68366173]])"
            ]
          },
          "metadata": {},
          "execution_count": 15
        }
      ]
    },
    {
      "cell_type": "code",
      "source": [
        "names == \"Muzaffar\""
      ],
      "metadata": {
        "id": "2zEHgOCOtY-E",
        "outputId": "a925f024-9a54-4097-c74c-bd8a93cb90c4",
        "colab": {
          "base_uri": "https://localhost:8080/"
        }
      },
      "execution_count": 17,
      "outputs": [
        {
          "output_type": "execute_result",
          "data": {
            "text/plain": [
              "array([False,  True, False, False, False, False])"
            ]
          },
          "metadata": {},
          "execution_count": 17
        }
      ]
    },
    {
      "cell_type": "code",
      "source": [
        "data [names == \"Muzaffar\"]"
      ],
      "metadata": {
        "id": "I9suhNzoteny",
        "outputId": "e4e0f546-868e-41b8-fdba-5862fb4b6d38",
        "colab": {
          "base_uri": "https://localhost:8080/"
        }
      },
      "execution_count": 18,
      "outputs": [
        {
          "output_type": "execute_result",
          "data": {
            "text/plain": [
              "array([[ 0.97163676, -0.73407266, -1.32651401]])"
            ]
          },
          "metadata": {},
          "execution_count": 18
        }
      ]
    },
    {
      "cell_type": "code",
      "source": [
        "data [names != \"Otabek\"]"
      ],
      "metadata": {
        "id": "GVjeoUZNtkcC",
        "outputId": "fa9131c0-8aca-44c7-cfe7-d5f5b2914f7a",
        "colab": {
          "base_uri": "https://localhost:8080/"
        }
      },
      "execution_count": 19,
      "outputs": [
        {
          "output_type": "execute_result",
          "data": {
            "text/plain": [
              "array([[ 0.97163676, -0.73407266, -1.32651401],\n",
              "       [ 1.29641705, -0.88992591, -0.95061986],\n",
              "       [-1.53420362, -0.97080281,  0.48052864],\n",
              "       [ 0.20226052,  0.72200158,  0.33973984],\n",
              "       [-0.34634261,  0.03228203,  0.68366173]])"
            ]
          },
          "metadata": {},
          "execution_count": 19
        }
      ]
    },
    {
      "cell_type": "code",
      "source": [
        "data [ data < 0]"
      ],
      "metadata": {
        "id": "hTF4zLrKtrtz",
        "outputId": "ced588e1-3cdc-4d26-8aba-f7be50a884a7",
        "colab": {
          "base_uri": "https://localhost:8080/"
        }
      },
      "execution_count": 21,
      "outputs": [
        {
          "output_type": "execute_result",
          "data": {
            "text/plain": [
              "array([-0.73407266, -1.32651401, -0.88992591, -0.95061986, -1.53420362,\n",
              "       -0.97080281, -0.34634261])"
            ]
          },
          "metadata": {},
          "execution_count": 21
        }
      ]
    },
    {
      "cell_type": "code",
      "source": [
        "data [data > 0] = 0\n",
        "data"
      ],
      "metadata": {
        "id": "y8Di-9oktwEM",
        "outputId": "34fce139-9152-4b55-8810-1686f63c2cfe",
        "colab": {
          "base_uri": "https://localhost:8080/"
        }
      },
      "execution_count": 24,
      "outputs": [
        {
          "output_type": "execute_result",
          "data": {
            "text/plain": [
              "array([[ 0.        ,  0.        ,  0.        ],\n",
              "       [ 0.        , -0.73407266, -1.32651401],\n",
              "       [ 0.        , -0.88992591, -0.95061986],\n",
              "       [-1.53420362, -0.97080281,  0.        ],\n",
              "       [ 0.        ,  0.        ,  0.        ],\n",
              "       [-0.34634261,  0.        ,  0.        ]])"
            ]
          },
          "metadata": {},
          "execution_count": 24
        }
      ]
    },
    {
      "cell_type": "code",
      "source": [
        "arr = (names == \"Otabek\") | (names == \"Muzaffar\")\n",
        "arr"
      ],
      "metadata": {
        "id": "pPwk2jTmt-je",
        "outputId": "3d8872bc-b0c8-4ae3-9041-512e932cbf1e",
        "colab": {
          "base_uri": "https://localhost:8080/"
        }
      },
      "execution_count": 27,
      "outputs": [
        {
          "output_type": "execute_result",
          "data": {
            "text/plain": [
              "array([ True,  True, False, False, False, False])"
            ]
          },
          "metadata": {},
          "execution_count": 27
        }
      ]
    },
    {
      "cell_type": "code",
      "source": [
        "data [names != \"Otabek\", 2:]"
      ],
      "metadata": {
        "id": "dqGzy91XuVHn",
        "outputId": "4852b7ef-bc8e-411f-d408-f860ad11cf8a",
        "colab": {
          "base_uri": "https://localhost:8080/"
        }
      },
      "execution_count": 28,
      "outputs": [
        {
          "output_type": "execute_result",
          "data": {
            "text/plain": [
              "array([[-1.32651401],\n",
              "       [-0.95061986],\n",
              "       [ 0.        ],\n",
              "       [ 0.        ],\n",
              "       [ 0.        ]])"
            ]
          },
          "metadata": {},
          "execution_count": 28
        }
      ]
    }
  ]
}