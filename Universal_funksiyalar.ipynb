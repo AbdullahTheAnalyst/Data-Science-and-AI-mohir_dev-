{
  "nbformat": 4,
  "nbformat_minor": 0,
  "metadata": {
    "colab": {
      "provenance": [],
      "authorship_tag": "ABX9TyNsuYw6bCIfCgRzoE7trs6J",
      "include_colab_link": true
    },
    "kernelspec": {
      "name": "python3",
      "display_name": "Python 3"
    },
    "language_info": {
      "name": "python"
    }
  },
  "cells": [
    {
      "cell_type": "markdown",
      "metadata": {
        "id": "view-in-github",
        "colab_type": "text"
      },
      "source": [
        "<a href=\"https://colab.research.google.com/github/AbdullahTheAnalyst/Data-Science-and-AI-mohir_dev-/blob/main/Universal_funksiyalar.ipynb\" target=\"_parent\"><img src=\"https://colab.research.google.com/assets/colab-badge.svg\" alt=\"Open In Colab\"/></a>"
      ]
    },
    {
      "cell_type": "code",
      "execution_count": 1,
      "metadata": {
        "id": "aUQ1IegcrwC5"
      },
      "outputs": [],
      "source": [
        "import numpy as np"
      ]
    },
    {
      "cell_type": "markdown",
      "source": [
        "Unary (funksiya ichiga faqat bitta argument qo'sha olamiz)\n",
        "sqrt, square, exp, log, modf, sign, isnan funksiyalarini ko'rib chiqamiz."
      ],
      "metadata": {
        "id": "aX836LTPtaJ6"
      }
    },
    {
      "cell_type": "code",
      "source": [
        "arr = np.arange (10)\n",
        "arr"
      ],
      "metadata": {
        "colab": {
          "base_uri": "https://localhost:8080/"
        },
        "id": "EnoKidfdr5sq",
        "outputId": "94d6301d-8161-46bc-941b-e0a8e36676ae"
      },
      "execution_count": 2,
      "outputs": [
        {
          "output_type": "execute_result",
          "data": {
            "text/plain": [
              "array([0, 1, 2, 3, 4, 5, 6, 7, 8, 9])"
            ]
          },
          "metadata": {},
          "execution_count": 2
        }
      ]
    },
    {
      "cell_type": "code",
      "source": [
        "np.sqrt (arr)  # massive ichidagi elementlarning kvadrat ildizini hisoblaydi"
      ],
      "metadata": {
        "colab": {
          "base_uri": "https://localhost:8080/"
        },
        "id": "QkJXwR4isD_W",
        "outputId": "4c20cea4-86ed-4095-fc50-1b17cae08eec"
      },
      "execution_count": 3,
      "outputs": [
        {
          "output_type": "execute_result",
          "data": {
            "text/plain": [
              "array([0.        , 1.        , 1.41421356, 1.73205081, 2.        ,\n",
              "       2.23606798, 2.44948974, 2.64575131, 2.82842712, 3.        ])"
            ]
          },
          "metadata": {},
          "execution_count": 3
        }
      ]
    },
    {
      "cell_type": "code",
      "source": [
        "np.square (arr) # massive ichidagi elementlarning kvadratni hisoblaydi"
      ],
      "metadata": {
        "colab": {
          "base_uri": "https://localhost:8080/"
        },
        "id": "UM09mbv-sIiZ",
        "outputId": "b3ce6b1a-2f52-4b79-9eda-7cdc32795d6e"
      },
      "execution_count": 4,
      "outputs": [
        {
          "output_type": "execute_result",
          "data": {
            "text/plain": [
              "array([ 0,  1,  4,  9, 16, 25, 36, 49, 64, 81])"
            ]
          },
          "metadata": {},
          "execution_count": 4
        }
      ]
    },
    {
      "cell_type": "code",
      "source": [
        "np.exp (arr) # massive ichidagi elementlarning rxponent qiymati ya'ni e=2.71 va 2 ning 2.71 darajasini hisoblaydi."
      ],
      "metadata": {
        "colab": {
          "base_uri": "https://localhost:8080/"
        },
        "id": "h2IeXG4VsYFQ",
        "outputId": "26495857-240a-4cb2-ea9e-d1eeeb59352c"
      },
      "execution_count": 5,
      "outputs": [
        {
          "output_type": "execute_result",
          "data": {
            "text/plain": [
              "array([1.00000000e+00, 2.71828183e+00, 7.38905610e+00, 2.00855369e+01,\n",
              "       5.45981500e+01, 1.48413159e+02, 4.03428793e+02, 1.09663316e+03,\n",
              "       2.98095799e+03, 8.10308393e+03])"
            ]
          },
          "metadata": {},
          "execution_count": 5
        }
      ]
    },
    {
      "cell_type": "code",
      "source": [
        "np.log (arr) # massiv ichidagi elementlarning logarifmini hisoblaydi"
      ],
      "metadata": {
        "colab": {
          "base_uri": "https://localhost:8080/"
        },
        "id": "NDlDUm9vs3uE",
        "outputId": "0748f2c7-3d1e-419b-e4f6-9a14c7163998"
      },
      "execution_count": 7,
      "outputs": [
        {
          "output_type": "stream",
          "name": "stderr",
          "text": [
            "<ipython-input-7-31a630e93d3e>:1: RuntimeWarning: divide by zero encountered in log\n",
            "  np.log (arr)\n"
          ]
        },
        {
          "output_type": "execute_result",
          "data": {
            "text/plain": [
              "array([      -inf, 0.        , 0.69314718, 1.09861229, 1.38629436,\n",
              "       1.60943791, 1.79175947, 1.94591015, 2.07944154, 2.19722458])"
            ]
          },
          "metadata": {},
          "execution_count": 7
        }
      ]
    },
    {
      "cell_type": "code",
      "source": [
        "arr1 = np.random.randn (6, 4)\n",
        "arr1"
      ],
      "metadata": {
        "colab": {
          "base_uri": "https://localhost:8080/"
        },
        "id": "eGWOyLWttRFa",
        "outputId": "9db595f4-cb19-4439-a4e2-38f390105df8"
      },
      "execution_count": 8,
      "outputs": [
        {
          "output_type": "execute_result",
          "data": {
            "text/plain": [
              "array([[ 0.66701274, -0.13597678, -1.49425122,  1.15202989],\n",
              "       [-0.30917072, -0.10819067, -0.0331601 ,  2.10434516],\n",
              "       [ 1.02856427, -2.42260189, -1.16293679,  1.0291771 ],\n",
              "       [ 0.46556407,  0.75121497, -0.09912624, -0.87729491],\n",
              "       [ 1.47818799,  0.88323801, -0.70705164, -1.7256217 ],\n",
              "       [-0.61481628, -1.12849993,  0.23826811,  0.06042928]])"
            ]
          },
          "metadata": {},
          "execution_count": 8
        }
      ]
    },
    {
      "cell_type": "code",
      "source": [
        "qoldiq, butun = np.modf(arr1)   # modf funksiyasi orqali qoldiq va butun qismlarga ajratib chiqaradi.\n",
        "print(qoldiq)\n",
        "print(butun)"
      ],
      "metadata": {
        "colab": {
          "base_uri": "https://localhost:8080/"
        },
        "id": "E-SWtx-Ct4FC",
        "outputId": "c8871798-420e-4881-a4dd-00eda8caf155"
      },
      "execution_count": 9,
      "outputs": [
        {
          "output_type": "stream",
          "name": "stdout",
          "text": [
            "[[ 0.66701274 -0.13597678 -0.49425122  0.15202989]\n",
            " [-0.30917072 -0.10819067 -0.0331601   0.10434516]\n",
            " [ 0.02856427 -0.42260189 -0.16293679  0.0291771 ]\n",
            " [ 0.46556407  0.75121497 -0.09912624 -0.87729491]\n",
            " [ 0.47818799  0.88323801 -0.70705164 -0.7256217 ]\n",
            " [-0.61481628 -0.12849993  0.23826811  0.06042928]]\n",
            "[[ 0. -0. -1.  1.]\n",
            " [-0. -0. -0.  2.]\n",
            " [ 1. -2. -1.  1.]\n",
            " [ 0.  0. -0. -0.]\n",
            " [ 1.  0. -0. -1.]\n",
            " [-0. -1.  0.  0.]]\n"
          ]
        }
      ]
    },
    {
      "cell_type": "code",
      "source": [
        "np.sign(arr1)  #sign funkisyasi massiv elementlarini qiymati manfiy bo'lsa -1 va aksincha musbat bo'lsa 1 ni qaytaradi"
      ],
      "metadata": {
        "colab": {
          "base_uri": "https://localhost:8080/"
        },
        "id": "LIjg7jEeuH94",
        "outputId": "4f2c9278-80b6-4502-8863-a5ffd950ed21"
      },
      "execution_count": 11,
      "outputs": [
        {
          "output_type": "execute_result",
          "data": {
            "text/plain": [
              "array([[ 1., -1., -1.,  1.],\n",
              "       [-1., -1., -1.,  1.],\n",
              "       [ 1., -1., -1.,  1.],\n",
              "       [ 1.,  1., -1., -1.],\n",
              "       [ 1.,  1., -1., -1.],\n",
              "       [-1., -1.,  1.,  1.]])"
            ]
          },
          "metadata": {},
          "execution_count": 11
        }
      ]
    },
    {
      "cell_type": "code",
      "source": [
        "np.isnan (arr1)  # bu orqali NaN (Non a Number) bo'lsa True, bo'lmasa False chiqaradi"
      ],
      "metadata": {
        "colab": {
          "base_uri": "https://localhost:8080/"
        },
        "id": "FuEvJjj5uXQR",
        "outputId": "76e18c22-8493-42e3-ba67-e8d07962290a"
      },
      "execution_count": 13,
      "outputs": [
        {
          "output_type": "execute_result",
          "data": {
            "text/plain": [
              "array([[False, False, False, False],\n",
              "       [False, False, False, False],\n",
              "       [False, False, False, False],\n",
              "       [False, False, False, False],\n",
              "       [False, False, False, False],\n",
              "       [False, False, False, False]])"
            ]
          },
          "metadata": {},
          "execution_count": 13
        }
      ]
    },
    {
      "cell_type": "code",
      "source": [
        "arr1 [2:] = np.nan\n",
        "arr1"
      ],
      "metadata": {
        "colab": {
          "base_uri": "https://localhost:8080/"
        },
        "id": "ynOlYhjMuhUJ",
        "outputId": "6252d293-7214-46f7-f177-cac796ba88a8"
      },
      "execution_count": 15,
      "outputs": [
        {
          "output_type": "execute_result",
          "data": {
            "text/plain": [
              "array([[ 0.66701274, -0.13597678, -1.49425122,  1.15202989],\n",
              "       [-0.30917072, -0.10819067, -0.0331601 ,  2.10434516],\n",
              "       [        nan,         nan,         nan,         nan],\n",
              "       [        nan,         nan,         nan,         nan],\n",
              "       [        nan,         nan,         nan,         nan],\n",
              "       [        nan,         nan,         nan,         nan]])"
            ]
          },
          "metadata": {},
          "execution_count": 15
        }
      ]
    },
    {
      "cell_type": "code",
      "source": [
        "np.isnan (arr1)"
      ],
      "metadata": {
        "colab": {
          "base_uri": "https://localhost:8080/"
        },
        "id": "vi6wZc74u8gj",
        "outputId": "7417a7ec-092c-4a83-cc00-ebdff87aa4b2"
      },
      "execution_count": 16,
      "outputs": [
        {
          "output_type": "execute_result",
          "data": {
            "text/plain": [
              "array([[False, False, False, False],\n",
              "       [False, False, False, False],\n",
              "       [ True,  True,  True,  True],\n",
              "       [ True,  True,  True,  True],\n",
              "       [ True,  True,  True,  True],\n",
              "       [ True,  True,  True,  True]])"
            ]
          },
          "metadata": {},
          "execution_count": 16
        }
      ]
    },
    {
      "cell_type": "markdown",
      "source": [
        "Binary funksiyalar (ikkita argument qabul qiluvchi funkisya)\n",
        "\n",
        "add, multiply, maximum funksiyalarini ko'rib chiqamiz"
      ],
      "metadata": {
        "id": "WlZ-kn7evKYT"
      }
    },
    {
      "cell_type": "code",
      "source": [
        "arr2 = np.random.randn (5)\n",
        "arr2"
      ],
      "metadata": {
        "colab": {
          "base_uri": "https://localhost:8080/"
        },
        "id": "nwVki7JNvDJP",
        "outputId": "7c81d3f8-86dd-48fe-98c4-a366d27952b8"
      },
      "execution_count": 18,
      "outputs": [
        {
          "output_type": "execute_result",
          "data": {
            "text/plain": [
              "array([ 0.04834379, -1.67941139, -1.76752857,  0.61519682, -1.00367206])"
            ]
          },
          "metadata": {},
          "execution_count": 18
        }
      ]
    },
    {
      "cell_type": "code",
      "source": [
        "arr3 = np.random.randn (5)\n",
        "arr3"
      ],
      "metadata": {
        "colab": {
          "base_uri": "https://localhost:8080/"
        },
        "id": "MtsJIGWLvar1",
        "outputId": "84e374a8-f0be-4f1a-fce5-839387f94f9b"
      },
      "execution_count": 19,
      "outputs": [
        {
          "output_type": "execute_result",
          "data": {
            "text/plain": [
              "array([ 0.1361197 ,  0.05351924, -0.21866952, -0.8742402 ,  1.0792024 ])"
            ]
          },
          "metadata": {},
          "execution_count": 19
        }
      ]
    },
    {
      "cell_type": "code",
      "source": [
        "np.add(arr2, arr3)   # ikkita massivni qo'shadi mos elementlarini"
      ],
      "metadata": {
        "colab": {
          "base_uri": "https://localhost:8080/"
        },
        "id": "nyUL_l-cvift",
        "outputId": "1a03db48-784d-42f0-b80a-893e88ec588a"
      },
      "execution_count": 20,
      "outputs": [
        {
          "output_type": "execute_result",
          "data": {
            "text/plain": [
              "array([ 0.18446349, -1.62589215, -1.98619808, -0.25904339,  0.07553034])"
            ]
          },
          "metadata": {},
          "execution_count": 20
        }
      ]
    },
    {
      "cell_type": "code",
      "source": [
        "np.multiply(arr2, arr3)  # ikkita massivni ko'paytiradi mos elementlarini"
      ],
      "metadata": {
        "colab": {
          "base_uri": "https://localhost:8080/"
        },
        "id": "-0JxvFUbvmob",
        "outputId": "687cffc3-f28c-40f3-d7fe-2abc8cadcbd2"
      },
      "execution_count": 21,
      "outputs": [
        {
          "output_type": "execute_result",
          "data": {
            "text/plain": [
              "array([ 0.00658054, -0.08988082,  0.38650462, -0.53782979, -1.08316529])"
            ]
          },
          "metadata": {},
          "execution_count": 21
        }
      ]
    },
    {
      "cell_type": "code",
      "source": [
        "np.maximum (arr2, arr3)  # ikkita massivni taqqoslab, katta qiymatlarini chiqaradi"
      ],
      "metadata": {
        "colab": {
          "base_uri": "https://localhost:8080/"
        },
        "id": "XJjpNG7Hvuza",
        "outputId": "586b600c-1133-41c8-b5e0-b5ba576fdbe0"
      },
      "execution_count": 22,
      "outputs": [
        {
          "output_type": "execute_result",
          "data": {
            "text/plain": [
              "array([ 0.1361197 ,  0.05351924, -0.21866952,  0.61519682,  1.0792024 ])"
            ]
          },
          "metadata": {},
          "execution_count": 22
        }
      ]
    },
    {
      "cell_type": "code",
      "source": [
        "np.minimum (arr2, arr3)  # ikkita massivni taqqoslab, kichik qiymatlarini chiqaradi"
      ],
      "metadata": {
        "colab": {
          "base_uri": "https://localhost:8080/"
        },
        "id": "3aTIkjCJv8sw",
        "outputId": "39b15a4e-3ce7-4bd1-985a-76cd562085ee"
      },
      "execution_count": 23,
      "outputs": [
        {
          "output_type": "execute_result",
          "data": {
            "text/plain": [
              "array([ 0.04834379, -1.67941139, -1.76752857, -0.8742402 , -1.00367206])"
            ]
          },
          "metadata": {},
          "execution_count": 23
        }
      ]
    }
  ]
}