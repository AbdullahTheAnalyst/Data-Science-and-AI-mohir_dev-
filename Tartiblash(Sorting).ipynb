{
  "nbformat": 4,
  "nbformat_minor": 0,
  "metadata": {
    "colab": {
      "provenance": [],
      "authorship_tag": "ABX9TyNkb9HODmH+H/5zdDn+WUW0",
      "include_colab_link": true
    },
    "kernelspec": {
      "name": "python3",
      "display_name": "Python 3"
    },
    "language_info": {
      "name": "python"
    }
  },
  "cells": [
    {
      "cell_type": "markdown",
      "metadata": {
        "id": "view-in-github",
        "colab_type": "text"
      },
      "source": [
        "<a href=\"https://colab.research.google.com/github/AbdullahTheAnalyst/Data-Science-and-AI-mohir_dev-/blob/main/Tartiblash(Sorting).ipynb\" target=\"_parent\"><img src=\"https://colab.research.google.com/assets/colab-badge.svg\" alt=\"Open In Colab\"/></a>"
      ]
    },
    {
      "cell_type": "code",
      "execution_count": 1,
      "metadata": {
        "id": "L3KBF1n_r-zL"
      },
      "outputs": [],
      "source": [
        "import numpy as np"
      ]
    },
    {
      "cell_type": "code",
      "source": [
        "arr = np.random.rand(5)\n",
        "arr"
      ],
      "metadata": {
        "colab": {
          "base_uri": "https://localhost:8080/"
        },
        "id": "p5Nctba7thC8",
        "outputId": "188cf5c9-5ca6-491b-e0fe-f9e22ebedc78"
      },
      "execution_count": 2,
      "outputs": [
        {
          "output_type": "execute_result",
          "data": {
            "text/plain": [
              "array([0.5299259 , 0.98762131, 0.51924467, 0.98897153, 0.6102852 ])"
            ]
          },
          "metadata": {},
          "execution_count": 2
        }
      ]
    },
    {
      "cell_type": "code",
      "source": [
        "sorted_arr = np.sort(arr)  # 5 ta tahminiy sonlar tartiblandi\n",
        "print (sorted_arr)"
      ],
      "metadata": {
        "colab": {
          "base_uri": "https://localhost:8080/"
        },
        "id": "oseqO2K9uu8P",
        "outputId": "b10e6d27-16fe-40e7-b504-7195e7afcac4"
      },
      "execution_count": 5,
      "outputs": [
        {
          "output_type": "stream",
          "name": "stdout",
          "text": [
            "[0.51924467 0.5299259  0.6102852  0.98762131 0.98897153]\n"
          ]
        }
      ]
    },
    {
      "cell_type": "code",
      "source": [
        "sorted_arr_teskari = -np.sort(-arr)  # 5 ta tahminiy sonlar teskari tartiblandi\n",
        "print(sorted_arr_teskari)"
      ],
      "metadata": {
        "colab": {
          "base_uri": "https://localhost:8080/"
        },
        "id": "RPZgrbt2uxGg",
        "outputId": "cdaa894a-42bd-4437-d172-fa584d97abe6"
      },
      "execution_count": 6,
      "outputs": [
        {
          "output_type": "stream",
          "name": "stdout",
          "text": [
            "[0.98897153 0.98762131 0.6102852  0.5299259  0.51924467]\n"
          ]
        }
      ]
    },
    {
      "cell_type": "code",
      "source": [
        "arr1 = np.random.randn (3, 5)\n",
        "arr1"
      ],
      "metadata": {
        "colab": {
          "base_uri": "https://localhost:8080/"
        },
        "id": "SoKWD7V8vE3O",
        "outputId": "83351b56-03d1-412b-ad07-2c905c349f3f"
      },
      "execution_count": 12,
      "outputs": [
        {
          "output_type": "execute_result",
          "data": {
            "text/plain": [
              "array([[-0.28415463, -1.01087319,  1.77631344, -1.04819232,  0.43398212],\n",
              "       [ 0.32392675, -1.17535259,  0.31567819,  0.54128104,  0.08881789],\n",
              "       [-1.01629757, -0.94722827,  0.96756587, -1.03556167,  0.36965299]])"
            ]
          },
          "metadata": {},
          "execution_count": 12
        }
      ]
    },
    {
      "cell_type": "code",
      "source": [
        "sorted_arr1 = np.sort(arr1, axis = 0)  # massiv Column bo'yicha tahlandi\n",
        "print(sorted_arr1)"
      ],
      "metadata": {
        "colab": {
          "base_uri": "https://localhost:8080/"
        },
        "id": "b2-LC0QdvPC6",
        "outputId": "7480297d-c8b9-4edb-d7ba-ca833c8881d3"
      },
      "execution_count": 15,
      "outputs": [
        {
          "output_type": "stream",
          "name": "stdout",
          "text": [
            "[[-1.01629757 -1.17535259  0.31567819 -1.04819232  0.08881789]\n",
            " [-0.28415463 -1.01087319  0.96756587 -1.03556167  0.36965299]\n",
            " [ 0.32392675 -0.94722827  1.77631344  0.54128104  0.43398212]]\n"
          ]
        }
      ]
    },
    {
      "cell_type": "code",
      "source": [
        "sorted_arr1 = np.sort(arr1, axis = 1) # massiv Row bo'yicha tahlandi\n",
        "print(sorted_arr1)"
      ],
      "metadata": {
        "colab": {
          "base_uri": "https://localhost:8080/"
        },
        "id": "npvlHiPgwCg1",
        "outputId": "1ac5cbd7-fd93-4b68-9d5e-c5f7a41d5870"
      },
      "execution_count": 17,
      "outputs": [
        {
          "output_type": "stream",
          "name": "stdout",
          "text": [
            "[[-1.04819232 -1.01087319 -0.28415463  0.43398212  1.77631344]\n",
            " [-1.17535259  0.08881789  0.31567819  0.32392675  0.54128104]\n",
            " [-1.03556167 -1.01629757 -0.94722827  0.36965299  0.96756587]]\n"
          ]
        }
      ]
    }
  ]
}