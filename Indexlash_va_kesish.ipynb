{
  "nbformat": 4,
  "nbformat_minor": 0,
  "metadata": {
    "colab": {
      "provenance": [],
      "authorship_tag": "ABX9TyPAdWjFZJs4NQh8NYsFmuOR",
      "include_colab_link": true
    },
    "kernelspec": {
      "name": "python3",
      "display_name": "Python 3"
    },
    "language_info": {
      "name": "python"
    }
  },
  "cells": [
    {
      "cell_type": "markdown",
      "metadata": {
        "id": "view-in-github",
        "colab_type": "text"
      },
      "source": [
        "<a href=\"https://colab.research.google.com/github/AbdullahTheAnalyst/Data-Science-and-AI-mohir_dev-/blob/main/Indexlash_va_kesish.ipynb\" target=\"_parent\"><img src=\"https://colab.research.google.com/assets/colab-badge.svg\" alt=\"Open In Colab\"/></a>"
      ]
    },
    {
      "cell_type": "code",
      "execution_count": 1,
      "metadata": {
        "id": "1o52KCFekSYM"
      },
      "outputs": [],
      "source": [
        "import numpy as np   # numpy kutubxonasini chaqirdik"
      ]
    },
    {
      "cell_type": "code",
      "source": [
        "arr = np.arange(10,100,10)  # 10 dan 100 gacha 10ta birlikm tashab chiqardik\n",
        "arr"
      ],
      "metadata": {
        "colab": {
          "base_uri": "https://localhost:8080/"
        },
        "id": "UJJe5WvrkXuL",
        "outputId": "07c5b423-385e-42c4-86ae-96600ef94258"
      },
      "execution_count": 2,
      "outputs": [
        {
          "output_type": "execute_result",
          "data": {
            "text/plain": [
              "array([10, 20, 30, 40, 50, 60, 70, 80, 90])"
            ]
          },
          "metadata": {},
          "execution_count": 2
        }
      ]
    },
    {
      "cell_type": "code",
      "source": [
        "print (arr [-1])  # n-raqamli elementini chiqardik\n",
        "print (arr [0])\n",
        "print (arr [6])"
      ],
      "metadata": {
        "colab": {
          "base_uri": "https://localhost:8080/"
        },
        "id": "Dib_cG2VkijC",
        "outputId": "45d17505-e7e7-433f-f3c6-19fe2f80aa77"
      },
      "execution_count": 4,
      "outputs": [
        {
          "output_type": "stream",
          "name": "stdout",
          "text": [
            "90\n",
            "10\n",
            "70\n"
          ]
        }
      ]
    },
    {
      "cell_type": "code",
      "source": [
        "print (arr [:])\n",
        "print (arr [3:5])"
      ],
      "metadata": {
        "colab": {
          "base_uri": "https://localhost:8080/"
        },
        "id": "JiOo-NSDktXO",
        "outputId": "fd702d79-f8ec-423e-8095-6e3ad3e5d34e"
      },
      "execution_count": 7,
      "outputs": [
        {
          "output_type": "stream",
          "name": "stdout",
          "text": [
            "[10 20 30 40 50 60 70 80 90]\n",
            "[40 50]\n"
          ]
        }
      ]
    },
    {
      "cell_type": "code",
      "source": [
        "cut_arr = arr [2:6]  # kesib olinishi : orqali bo'ladi\n",
        "cut_arr [:] = 50\n",
        "cut_arr"
      ],
      "metadata": {
        "colab": {
          "base_uri": "https://localhost:8080/"
        },
        "id": "gSXrxXfgk8tm",
        "outputId": "a0f81fc8-5fde-49dc-fcfa-3ed8815527a9"
      },
      "execution_count": 9,
      "outputs": [
        {
          "output_type": "execute_result",
          "data": {
            "text/plain": [
              "array([50, 50, 50, 50])"
            ]
          },
          "metadata": {},
          "execution_count": 9
        }
      ]
    },
    {
      "cell_type": "code",
      "source": [
        "arr"
      ],
      "metadata": {
        "colab": {
          "base_uri": "https://localhost:8080/"
        },
        "id": "tfgZsMwXlTDc",
        "outputId": "7a884d37-c67f-46da-c217-650b8bfe4027"
      },
      "execution_count": 10,
      "outputs": [
        {
          "output_type": "execute_result",
          "data": {
            "text/plain": [
              "array([10, 20, 50, 50, 50, 50, 70, 80, 90])"
            ]
          },
          "metadata": {},
          "execution_count": 10
        }
      ]
    },
    {
      "cell_type": "code",
      "source": [
        "cut_arr1 = arr [2:6].copy()  # tog'ridan tog'ri kesib olsak asosiy massivga\n",
        "                               # ta'sir qilishi mumkin shuning uchun .copy() metodidan foydalanamiz\n",
        "cut_arr1 [:] = 24\n",
        "cut_arr1"
      ],
      "metadata": {
        "colab": {
          "base_uri": "https://localhost:8080/"
        },
        "id": "zH9xhaNIlbj1",
        "outputId": "56907a2f-643a-4c58-945b-2bfc88997768"
      },
      "execution_count": 11,
      "outputs": [
        {
          "output_type": "execute_result",
          "data": {
            "text/plain": [
              "array([24, 24, 24, 24])"
            ]
          },
          "metadata": {},
          "execution_count": 11
        }
      ]
    },
    {
      "cell_type": "code",
      "source": [
        "arr"
      ],
      "metadata": {
        "colab": {
          "base_uri": "https://localhost:8080/"
        },
        "id": "4zPiWdn_lsDH",
        "outputId": "5cb0d85e-5c4e-4c00-8f1e-54bdbc21825a"
      },
      "execution_count": 12,
      "outputs": [
        {
          "output_type": "execute_result",
          "data": {
            "text/plain": [
              "array([10, 20, 50, 50, 50, 50, 70, 80, 90])"
            ]
          },
          "metadata": {},
          "execution_count": 12
        }
      ]
    },
    {
      "cell_type": "code",
      "source": [
        "arr2d = np.array ([[1, 2, 3],   # 2 o'lchamli massiv\n",
        "                  [4, 5, 6],\n",
        "                  [7, 8 ,9]])\n",
        "arr2d"
      ],
      "metadata": {
        "colab": {
          "base_uri": "https://localhost:8080/"
        },
        "id": "QCDnzl58ltVy",
        "outputId": "ac1698f1-bd8d-4686-a64a-51cb20762756"
      },
      "execution_count": 15,
      "outputs": [
        {
          "output_type": "execute_result",
          "data": {
            "text/plain": [
              "array([[1, 2, 3],\n",
              "       [4, 5, 6],\n",
              "       [7, 8, 9]])"
            ]
          },
          "metadata": {},
          "execution_count": 15
        }
      ]
    },
    {
      "cell_type": "code",
      "source": [
        "print (arr2d [1, 2])\n",
        "print (arr2d [:2, 2:])"
      ],
      "metadata": {
        "colab": {
          "base_uri": "https://localhost:8080/"
        },
        "id": "vOj7Ff5umDr7",
        "outputId": "7e8f844a-aab4-4409-f1ff-f98c8ce33469"
      },
      "execution_count": 18,
      "outputs": [
        {
          "output_type": "stream",
          "name": "stdout",
          "text": [
            "6\n",
            "[[3]\n",
            " [6]]\n"
          ]
        }
      ]
    },
    {
      "cell_type": "code",
      "source": [
        "arr3d = np.array([[[ 0,  1,  2],  # 3 o'lchamli massiv\n",
        "                   [ 3,  4,  5],\n",
        "                   [ 6,  7,  8]],\n",
        "\n",
        "                  [[ 9, 10, 11],\n",
        "                   [12, 13, 14],\n",
        "                   [15, 16, 17]],\n",
        "\n",
        "                  [[18, 19, 20],\n",
        "                   [21, 22, 23],\n",
        "                   [24, 25, 26]]])\n",
        "arr3d"
      ],
      "metadata": {
        "colab": {
          "base_uri": "https://localhost:8080/"
        },
        "id": "cKP1Govvmbtf",
        "outputId": "435a9161-827d-4926-c04d-15c07a27e72a"
      },
      "execution_count": 19,
      "outputs": [
        {
          "output_type": "execute_result",
          "data": {
            "text/plain": [
              "array([[[ 0,  1,  2],\n",
              "        [ 3,  4,  5],\n",
              "        [ 6,  7,  8]],\n",
              "\n",
              "       [[ 9, 10, 11],\n",
              "        [12, 13, 14],\n",
              "        [15, 16, 17]],\n",
              "\n",
              "       [[18, 19, 20],\n",
              "        [21, 22, 23],\n",
              "        [24, 25, 26]]])"
            ]
          },
          "metadata": {},
          "execution_count": 19
        }
      ]
    },
    {
      "cell_type": "code",
      "source": [
        "arr3d [1]"
      ],
      "metadata": {
        "colab": {
          "base_uri": "https://localhost:8080/"
        },
        "id": "n7mXb4vsnJDv",
        "outputId": "775d61a5-665f-476a-8aef-3fa91e08947f"
      },
      "execution_count": 21,
      "outputs": [
        {
          "output_type": "execute_result",
          "data": {
            "text/plain": [
              "array([[ 9, 10, 11],\n",
              "       [12, 13, 14],\n",
              "       [15, 16, 17]])"
            ]
          },
          "metadata": {},
          "execution_count": 21
        }
      ]
    },
    {
      "cell_type": "code",
      "source": [
        "arr3d [1][2, 2]  # birinchi massivning o'zining kelish tartibi keyin esa keladigan elementini aniqlaymiz"
      ],
      "metadata": {
        "colab": {
          "base_uri": "https://localhost:8080/"
        },
        "id": "YYvFF98inPEn",
        "outputId": "d8ca4f27-c4aa-4f4f-c581-f61c545c3f1c"
      },
      "execution_count": 22,
      "outputs": [
        {
          "output_type": "execute_result",
          "data": {
            "text/plain": [
              "17"
            ]
          },
          "metadata": {},
          "execution_count": 22
        }
      ]
    },
    {
      "cell_type": "code",
      "source": [
        "arr3d [2][1, 2]"
      ],
      "metadata": {
        "colab": {
          "base_uri": "https://localhost:8080/"
        },
        "id": "Op8JRt-BnWSa",
        "outputId": "b75b0755-1ecc-4e82-f429-f3ee253037ca"
      },
      "execution_count": 23,
      "outputs": [
        {
          "output_type": "execute_result",
          "data": {
            "text/plain": [
              "23"
            ]
          },
          "metadata": {},
          "execution_count": 23
        }
      ]
    },
    {
      "cell_type": "code",
      "source": [
        "print (arr3d [0])\n",
        "print (arr3d [2])"
      ],
      "metadata": {
        "colab": {
          "base_uri": "https://localhost:8080/"
        },
        "id": "a5yUvqyhna-m",
        "outputId": "9a9c6d6e-dbe7-4829-d6e3-736f29028929"
      },
      "execution_count": 27,
      "outputs": [
        {
          "output_type": "stream",
          "name": "stdout",
          "text": [
            "[[0 1 2]\n",
            " [3 4 5]\n",
            " [6 7 8]]\n",
            "[[18 19 20]\n",
            " [21 22 23]\n",
            " [24 25 26]]\n"
          ]
        }
      ]
    }
  ]
}