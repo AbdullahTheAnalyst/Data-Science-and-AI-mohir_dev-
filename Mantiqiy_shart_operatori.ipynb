{
  "nbformat": 4,
  "nbformat_minor": 0,
  "metadata": {
    "colab": {
      "provenance": [],
      "authorship_tag": "ABX9TyNgS9USAkbmjEQwQpiD0rak",
      "include_colab_link": true
    },
    "kernelspec": {
      "name": "python3",
      "display_name": "Python 3"
    },
    "language_info": {
      "name": "python"
    }
  },
  "cells": [
    {
      "cell_type": "markdown",
      "metadata": {
        "id": "view-in-github",
        "colab_type": "text"
      },
      "source": [
        "<a href=\"https://colab.research.google.com/github/AbdullahTheAnalyst/Data-Science-and-AI-mohir_dev-/blob/main/Mantiqiy_shart_operatori.ipynb\" target=\"_parent\"><img src=\"https://colab.research.google.com/assets/colab-badge.svg\" alt=\"Open In Colab\"/></a>"
      ]
    },
    {
      "cell_type": "code",
      "execution_count": 1,
      "metadata": {
        "id": "A7EtCj4ly2r1"
      },
      "outputs": [],
      "source": [
        "import numpy as np"
      ]
    },
    {
      "cell_type": "code",
      "source": [
        "xarr = [15, 66, 45, 89, 58, 20]\n",
        "yarr = [26, 54, 78, 56, 24, 30]\n",
        "qiymat = [True, False, True, False, False, True]"
      ],
      "metadata": {
        "id": "0J8gQ8qdy83K"
      },
      "execution_count": 2,
      "outputs": []
    },
    {
      "cell_type": "code",
      "source": [
        "result = np.where (qiymat, xarr, yarr)\n",
        "result"
      ],
      "metadata": {
        "colab": {
          "base_uri": "https://localhost:8080/"
        },
        "id": "w5PkbFxAzczb",
        "outputId": "10648d94-572c-421c-fc03-662957d75c6b"
      },
      "execution_count": 3,
      "outputs": [
        {
          "output_type": "execute_result",
          "data": {
            "text/plain": [
              "array([15, 54, 45, 56, 24, 20])"
            ]
          },
          "metadata": {},
          "execution_count": 3
        }
      ]
    },
    {
      "cell_type": "code",
      "source": [
        "arr = np.random.randn (4, 4)\n",
        "arr"
      ],
      "metadata": {
        "colab": {
          "base_uri": "https://localhost:8080/"
        },
        "id": "D8zlJhenzk-r",
        "outputId": "0999aed0-da65-482b-aca7-f935df4f1ed2"
      },
      "execution_count": 5,
      "outputs": [
        {
          "output_type": "execute_result",
          "data": {
            "text/plain": [
              "array([[ 1.11186225,  0.33505892,  0.5206232 , -1.44076606],\n",
              "       [ 1.33915677, -0.84651097,  0.12369152,  0.40901428],\n",
              "       [-0.44282398, -0.17805371, -0.98055576, -0.71414161],\n",
              "       [ 1.48357605,  0.16474781,  1.44486207,  1.08701994]])"
            ]
          },
          "metadata": {},
          "execution_count": 5
        }
      ]
    },
    {
      "cell_type": "code",
      "source": [
        "result1 = np.where (arr > 0, 56, -56)   # agar taxminiy massiv musbat bo'lsa 56, manfiy bo'lsa -56 ni ko'rsat\n",
        "result1"
      ],
      "metadata": {
        "colab": {
          "base_uri": "https://localhost:8080/"
        },
        "id": "5Va8wh3Pzwj8",
        "outputId": "4e74e337-9ae7-4cd8-ffc4-89d57327a6be"
      },
      "execution_count": 8,
      "outputs": [
        {
          "output_type": "execute_result",
          "data": {
            "text/plain": [
              "array([[ 56,  56,  56, -56],\n",
              "       [ 56, -56,  56,  56],\n",
              "       [-56, -56, -56, -56],\n",
              "       [ 56,  56,  56,  56]])"
            ]
          },
          "metadata": {},
          "execution_count": 8
        }
      ]
    }
  ]
}